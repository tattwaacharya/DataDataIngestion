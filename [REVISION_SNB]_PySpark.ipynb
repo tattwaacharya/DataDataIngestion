{
  "cells": [
    {
      "cell_type": "markdown",
      "metadata": {
        "id": "view-in-github",
        "colab_type": "text"
      },
      "source": [
        "<a href=\"https://colab.research.google.com/github/tattwaacharya/DataDataIngestion/blob/master/%5BREVISION_SNB%5D_PySpark.ipynb\" target=\"_parent\"><img src=\"https://colab.research.google.com/assets/colab-badge.svg\" alt=\"Open In Colab\"/></a>"
      ]
    },
    {
      "cell_type": "markdown",
      "source": [
        "###Revision Notebook (ungraded)\n",
        "Predicting Life Expectancy of different Countries Using Pyspark"
      ],
      "metadata": {
        "id": "AL-KAn3UmzmV"
      }
    },
    {
      "cell_type": "markdown",
      "source": [
        "###Distributed Data Analysis\n",
        "The aim of this assignment is to generate value and insight from the processing of heterogeneous data. This will be achieved by implementing several analytic methods/techniques/algorithms, evaluating them and comparing the effectiveness of the adopted approaches.\n",
        "\n",
        "###Objective:\n",
        "* Derive the insights and visualize the data\n",
        "* Perform Exploratory Data Analysis  and Data Engineering\n",
        "* Implement linear regression and Random forest and evaluate using pyspark\n",
        "\n",
        "\n",
        "###PySpark:\n",
        "PySpark is the Python API for Apache Spark, an open source, distributed computing framework and set of libraries for real-time, large-scale data processing"
      ],
      "metadata": {
        "id": "YoLHVZQunXYf"
      }
    },
    {
      "cell_type": "markdown",
      "source": [
        "##Dataset"
      ],
      "metadata": {
        "id": "ttGwhirzsMpS"
      }
    },
    {
      "cell_type": "markdown",
      "source": [
        "The Global Health Observatory (GHO) data repository under World Health Organization (WHO) keeps track of the health status as well as many other related factors for all countries The data-sets are made available to public for the purpose of health data analysis.\n",
        "\n",
        "This dataset related to life expectancy and health factors for 193 countries was collected from the WHO data repository. Among all categories of health-related factors only those critical factors were chosen which are more representative.\n",
        "\n",
        "The final dataset consists of 22 Columns and 2938 rows which i.e. 20 predicting variables. All predicting variables were divided into several broad categories:​Immunization related factors, Mortality factors, Economical factors and Social factors.\n",
        "Refer [Here](https://www.kaggle.com/datasets/kumarajarshi/life-expectancy-who)"
      ],
      "metadata": {
        "id": "E3pK3A-eo_7g"
      }
    },
    {
      "cell_type": "code",
      "source": [
        "!pip -qq install pyspark\n",
        "import pyspark\n",
        "import pandas as pd\n",
        "import numpy as np\n",
        "from pyspark.sql import SparkSession\n",
        "from pyspark import SparkContext\n",
        "from pyspark.sql.functions import mean, desc\n",
        "import matplotlib.pyplot as plt\n",
        "%matplotlib inline"
      ],
      "metadata": {
        "id": "c5Wbs6a_PXkO"
      },
      "execution_count": null,
      "outputs": []
    },
    {
      "cell_type": "code",
      "execution_count": null,
      "metadata": {
        "id": "WzIiaNA_PMD9"
      },
      "outputs": [],
      "source": [
        "#Starting a PySpark Session\n",
        "spark = SparkSession.builder.appName('IntroPySpark').getOrCreate()"
      ]
    },
    {
      "cell_type": "code",
      "execution_count": null,
      "metadata": {
        "id": "i6KmhQi7PMD-",
        "outputId": "10d47a8c-379a-4d7f-d9e7-8d4172a5ae59",
        "colab": {
          "base_uri": "https://localhost:8080/",
          "height": 222
        }
      },
      "outputs": [
        {
          "output_type": "execute_result",
          "data": {
            "text/plain": [
              "<pyspark.sql.session.SparkSession at 0x7ff711a4a3d0>"
            ],
            "text/html": [
              "\n",
              "            <div>\n",
              "                <p><b>SparkSession - in-memory</b></p>\n",
              "                \n",
              "        <div>\n",
              "            <p><b>SparkContext</b></p>\n",
              "\n",
              "            <p><a href=\"http://6ca6a207f9d4:4040\">Spark UI</a></p>\n",
              "\n",
              "            <dl>\n",
              "              <dt>Version</dt>\n",
              "                <dd><code>v3.3.0</code></dd>\n",
              "              <dt>Master</dt>\n",
              "                <dd><code>local[*]</code></dd>\n",
              "              <dt>AppName</dt>\n",
              "                <dd><code>IntroPySpark</code></dd>\n",
              "            </dl>\n",
              "        </div>\n",
              "        \n",
              "            </div>\n",
              "        "
            ]
          },
          "metadata": {},
          "execution_count": 7
        }
      ],
      "source": [
        "spark"
      ]
    },
    {
      "cell_type": "code",
      "execution_count": null,
      "metadata": {
        "id": "CBYQnlvAPMEA"
      },
      "outputs": [],
      "source": [
        "# Reading in the data\n",
        "df = spark.read.csv('Life Expectancy Data.csv',header=True, inferSchema=True)"
      ]
    },
    {
      "cell_type": "code",
      "execution_count": null,
      "metadata": {
        "id": "iwIpq1FdPMEA",
        "outputId": "4f864d75-1b88-4e63-d2c4-1f5739d46584",
        "colab": {
          "base_uri": "https://localhost:8080/"
        }
      },
      "outputs": [
        {
          "output_type": "stream",
          "name": "stdout",
          "text": [
            "root\n",
            " |-- Country: string (nullable = true)\n",
            " |-- Year: integer (nullable = true)\n",
            " |-- Status: string (nullable = true)\n",
            " |-- Life expectancy : double (nullable = true)\n",
            " |-- Adult Mortality: integer (nullable = true)\n",
            " |-- infant deaths: integer (nullable = true)\n",
            " |-- Alcohol: double (nullable = true)\n",
            " |-- percentage expenditure: double (nullable = true)\n",
            " |-- Hepatitis B: integer (nullable = true)\n",
            " |-- Measles : integer (nullable = true)\n",
            " |--  BMI : double (nullable = true)\n",
            " |-- under-five deaths : integer (nullable = true)\n",
            " |-- Polio: integer (nullable = true)\n",
            " |-- Total expenditure: double (nullable = true)\n",
            " |-- Diphtheria : integer (nullable = true)\n",
            " |--  HIV/AIDS: double (nullable = true)\n",
            " |-- GDP: double (nullable = true)\n",
            " |-- Population: double (nullable = true)\n",
            " |--  thinness  1-19 years: double (nullable = true)\n",
            " |--  thinness 5-9 years: double (nullable = true)\n",
            " |-- Income composition of resources: double (nullable = true)\n",
            " |-- Schooling: double (nullable = true)\n",
            "\n"
          ]
        }
      ],
      "source": [
        "df.printSchema()"
      ]
    },
    {
      "cell_type": "code",
      "execution_count": null,
      "metadata": {
        "id": "O9qOPfRrPMEB",
        "outputId": "9304a4eb-06cc-4f8d-e1f1-2409128f9564",
        "colab": {
          "base_uri": "https://localhost:8080/"
        }
      },
      "outputs": [
        {
          "output_type": "execute_result",
          "data": {
            "text/plain": [
              "pyspark.sql.dataframe.DataFrame"
            ]
          },
          "metadata": {},
          "execution_count": 10
        }
      ],
      "source": [
        "type(df)"
      ]
    },
    {
      "cell_type": "code",
      "execution_count": null,
      "metadata": {
        "id": "CR662OG8PMEB",
        "outputId": "fad78a18-e718-433d-bb1e-1d8d0231c989",
        "colab": {
          "base_uri": "https://localhost:8080/"
        }
      },
      "outputs": [
        {
          "output_type": "execute_result",
          "data": {
            "text/plain": [
              "['Country',\n",
              " 'Year',\n",
              " 'Status',\n",
              " 'Life expectancy ',\n",
              " 'Adult Mortality',\n",
              " 'infant deaths',\n",
              " 'Alcohol',\n",
              " 'percentage expenditure',\n",
              " 'Hepatitis B',\n",
              " 'Measles ',\n",
              " ' BMI ',\n",
              " 'under-five deaths ',\n",
              " 'Polio',\n",
              " 'Total expenditure',\n",
              " 'Diphtheria ',\n",
              " ' HIV/AIDS',\n",
              " 'GDP',\n",
              " 'Population',\n",
              " ' thinness  1-19 years',\n",
              " ' thinness 5-9 years',\n",
              " 'Income composition of resources',\n",
              " 'Schooling']"
            ]
          },
          "metadata": {},
          "execution_count": 11
        }
      ],
      "source": [
        "df.columns"
      ]
    },
    {
      "cell_type": "code",
      "execution_count": null,
      "metadata": {
        "id": "iRjQawAaPMEC",
        "outputId": "39ca58c5-50f8-4206-8d23-5aa7225fc6de",
        "colab": {
          "base_uri": "https://localhost:8080/"
        }
      },
      "outputs": [
        {
          "output_type": "stream",
          "name": "stdout",
          "text": [
            "Row(Country='Afghanistan', Year=2015, Status='Developing', Life expectancy =65.0, Adult Mortality=263, infant deaths=62, Alcohol=0.01, percentage expenditure=71.27962362, Hepatitis B=65, Measles =1154,  BMI =19.1, under-five deaths =83, Polio=6, Total expenditure=8.16, Diphtheria =65,  HIV/AIDS=0.1, GDP=584.25921, Population=33736494.0,  thinness  1-19 years=17.2,  thinness 5-9 years=17.3, Income composition of resources=0.479, Schooling=10.1)\n",
            "\n",
            "\n",
            "Row(Country='Afghanistan', Year=2014, Status='Developing', Life expectancy =59.9, Adult Mortality=271, infant deaths=64, Alcohol=0.01, percentage expenditure=73.52358168, Hepatitis B=62, Measles =492,  BMI =18.6, under-five deaths =86, Polio=58, Total expenditure=8.18, Diphtheria =62,  HIV/AIDS=0.1, GDP=612.696514, Population=327582.0,  thinness  1-19 years=17.5,  thinness 5-9 years=17.5, Income composition of resources=0.476, Schooling=10.0)\n",
            "\n",
            "\n",
            "Row(Country='Afghanistan', Year=2013, Status='Developing', Life expectancy =59.9, Adult Mortality=268, infant deaths=66, Alcohol=0.01, percentage expenditure=73.21924272, Hepatitis B=64, Measles =430,  BMI =18.1, under-five deaths =89, Polio=62, Total expenditure=8.13, Diphtheria =64,  HIV/AIDS=0.1, GDP=631.744976, Population=31731688.0,  thinness  1-19 years=17.7,  thinness 5-9 years=17.7, Income composition of resources=0.47, Schooling=9.9)\n",
            "\n",
            "\n",
            "Row(Country='Afghanistan', Year=2012, Status='Developing', Life expectancy =59.5, Adult Mortality=272, infant deaths=69, Alcohol=0.01, percentage expenditure=78.1842153, Hepatitis B=67, Measles =2787,  BMI =17.6, under-five deaths =93, Polio=67, Total expenditure=8.52, Diphtheria =67,  HIV/AIDS=0.1, GDP=669.959, Population=3696958.0,  thinness  1-19 years=17.9,  thinness 5-9 years=18.0, Income composition of resources=0.463, Schooling=9.8)\n",
            "\n",
            "\n",
            "Row(Country='Afghanistan', Year=2011, Status='Developing', Life expectancy =59.2, Adult Mortality=275, infant deaths=71, Alcohol=0.01, percentage expenditure=7.097108703, Hepatitis B=68, Measles =3013,  BMI =17.2, under-five deaths =97, Polio=68, Total expenditure=7.87, Diphtheria =68,  HIV/AIDS=0.1, GDP=63.537231, Population=2978599.0,  thinness  1-19 years=18.2,  thinness 5-9 years=18.2, Income composition of resources=0.454, Schooling=9.5)\n",
            "\n",
            "\n"
          ]
        }
      ],
      "source": [
        "for life in df.head(5):\n",
        "    print(life)\n",
        "    print('\\n')"
      ]
    },
    {
      "cell_type": "code",
      "execution_count": null,
      "metadata": {
        "id": "mbtGOfAIPMED",
        "outputId": "d9fda568-b67f-4b83-a0d6-b6cd9e418ce2",
        "colab": {
          "base_uri": "https://localhost:8080/"
        }
      },
      "outputs": [
        {
          "output_type": "execute_result",
          "data": {
            "text/plain": [
              "[('Country', 'string'),\n",
              " ('Year', 'int'),\n",
              " ('Status', 'string'),\n",
              " ('Life expectancy ', 'double'),\n",
              " ('Adult Mortality', 'int'),\n",
              " ('infant deaths', 'int'),\n",
              " ('Alcohol', 'double'),\n",
              " ('percentage expenditure', 'double'),\n",
              " ('Hepatitis B', 'int'),\n",
              " ('Measles ', 'int'),\n",
              " (' BMI ', 'double'),\n",
              " ('under-five deaths ', 'int'),\n",
              " ('Polio', 'int'),\n",
              " ('Total expenditure', 'double'),\n",
              " ('Diphtheria ', 'int'),\n",
              " (' HIV/AIDS', 'double'),\n",
              " ('GDP', 'double'),\n",
              " ('Population', 'double'),\n",
              " (' thinness  1-19 years', 'double'),\n",
              " (' thinness 5-9 years', 'double'),\n",
              " ('Income composition of resources', 'double'),\n",
              " ('Schooling', 'double')]"
            ]
          },
          "metadata": {},
          "execution_count": 13
        }
      ],
      "source": [
        "# Checking the data types of the columns\n",
        "df.dtypes"
      ]
    },
    {
      "cell_type": "code",
      "execution_count": null,
      "metadata": {
        "id": "BXGsVPeqPMED",
        "outputId": "4aa634b8-dd48-434c-a252-10b783ca9947",
        "colab": {
          "base_uri": "https://localhost:8080/",
          "height": 351
        }
      },
      "outputs": [
        {
          "output_type": "execute_result",
          "data": {
            "text/plain": [
              "       Country  Year      Status  Life expectancy   Adult Mortality  \\\n",
              "0  Afghanistan  2015  Developing              65.0              263   \n",
              "1  Afghanistan  2014  Developing              59.9              271   \n",
              "2  Afghanistan  2013  Developing              59.9              268   \n",
              "3  Afghanistan  2012  Developing              59.5              272   \n",
              "4  Afghanistan  2011  Developing              59.2              275   \n",
              "\n",
              "   infant deaths  Alcohol  percentage expenditure  Hepatitis B  Measles   ...  \\\n",
              "0             62     0.01               71.279624           65      1154  ...   \n",
              "1             64     0.01               73.523582           62       492  ...   \n",
              "2             66     0.01               73.219243           64       430  ...   \n",
              "3             69     0.01               78.184215           67      2787  ...   \n",
              "4             71     0.01                7.097109           68      3013  ...   \n",
              "\n",
              "   Polio  Total expenditure  Diphtheria    HIV/AIDS         GDP  Population  \\\n",
              "0      6               8.16           65        0.1  584.259210  33736494.0   \n",
              "1     58               8.18           62        0.1  612.696514    327582.0   \n",
              "2     62               8.13           64        0.1  631.744976  31731688.0   \n",
              "3     67               8.52           67        0.1  669.959000   3696958.0   \n",
              "4     68               7.87           68        0.1   63.537231   2978599.0   \n",
              "\n",
              "    thinness  1-19 years   thinness 5-9 years  \\\n",
              "0                   17.2                 17.3   \n",
              "1                   17.5                 17.5   \n",
              "2                   17.7                 17.7   \n",
              "3                   17.9                 18.0   \n",
              "4                   18.2                 18.2   \n",
              "\n",
              "   Income composition of resources  Schooling  \n",
              "0                            0.479       10.1  \n",
              "1                            0.476       10.0  \n",
              "2                            0.470        9.9  \n",
              "3                            0.463        9.8  \n",
              "4                            0.454        9.5  \n",
              "\n",
              "[5 rows x 22 columns]"
            ],
            "text/html": [
              "\n",
              "  <div id=\"df-2b46cfc6-33b8-45fa-8f34-6a62c72a888e\">\n",
              "    <div class=\"colab-df-container\">\n",
              "      <div>\n",
              "<style scoped>\n",
              "    .dataframe tbody tr th:only-of-type {\n",
              "        vertical-align: middle;\n",
              "    }\n",
              "\n",
              "    .dataframe tbody tr th {\n",
              "        vertical-align: top;\n",
              "    }\n",
              "\n",
              "    .dataframe thead th {\n",
              "        text-align: right;\n",
              "    }\n",
              "</style>\n",
              "<table border=\"1\" class=\"dataframe\">\n",
              "  <thead>\n",
              "    <tr style=\"text-align: right;\">\n",
              "      <th></th>\n",
              "      <th>Country</th>\n",
              "      <th>Year</th>\n",
              "      <th>Status</th>\n",
              "      <th>Life expectancy</th>\n",
              "      <th>Adult Mortality</th>\n",
              "      <th>infant deaths</th>\n",
              "      <th>Alcohol</th>\n",
              "      <th>percentage expenditure</th>\n",
              "      <th>Hepatitis B</th>\n",
              "      <th>Measles</th>\n",
              "      <th>...</th>\n",
              "      <th>Polio</th>\n",
              "      <th>Total expenditure</th>\n",
              "      <th>Diphtheria</th>\n",
              "      <th>HIV/AIDS</th>\n",
              "      <th>GDP</th>\n",
              "      <th>Population</th>\n",
              "      <th>thinness  1-19 years</th>\n",
              "      <th>thinness 5-9 years</th>\n",
              "      <th>Income composition of resources</th>\n",
              "      <th>Schooling</th>\n",
              "    </tr>\n",
              "  </thead>\n",
              "  <tbody>\n",
              "    <tr>\n",
              "      <th>0</th>\n",
              "      <td>Afghanistan</td>\n",
              "      <td>2015</td>\n",
              "      <td>Developing</td>\n",
              "      <td>65.0</td>\n",
              "      <td>263</td>\n",
              "      <td>62</td>\n",
              "      <td>0.01</td>\n",
              "      <td>71.279624</td>\n",
              "      <td>65</td>\n",
              "      <td>1154</td>\n",
              "      <td>...</td>\n",
              "      <td>6</td>\n",
              "      <td>8.16</td>\n",
              "      <td>65</td>\n",
              "      <td>0.1</td>\n",
              "      <td>584.259210</td>\n",
              "      <td>33736494.0</td>\n",
              "      <td>17.2</td>\n",
              "      <td>17.3</td>\n",
              "      <td>0.479</td>\n",
              "      <td>10.1</td>\n",
              "    </tr>\n",
              "    <tr>\n",
              "      <th>1</th>\n",
              "      <td>Afghanistan</td>\n",
              "      <td>2014</td>\n",
              "      <td>Developing</td>\n",
              "      <td>59.9</td>\n",
              "      <td>271</td>\n",
              "      <td>64</td>\n",
              "      <td>0.01</td>\n",
              "      <td>73.523582</td>\n",
              "      <td>62</td>\n",
              "      <td>492</td>\n",
              "      <td>...</td>\n",
              "      <td>58</td>\n",
              "      <td>8.18</td>\n",
              "      <td>62</td>\n",
              "      <td>0.1</td>\n",
              "      <td>612.696514</td>\n",
              "      <td>327582.0</td>\n",
              "      <td>17.5</td>\n",
              "      <td>17.5</td>\n",
              "      <td>0.476</td>\n",
              "      <td>10.0</td>\n",
              "    </tr>\n",
              "    <tr>\n",
              "      <th>2</th>\n",
              "      <td>Afghanistan</td>\n",
              "      <td>2013</td>\n",
              "      <td>Developing</td>\n",
              "      <td>59.9</td>\n",
              "      <td>268</td>\n",
              "      <td>66</td>\n",
              "      <td>0.01</td>\n",
              "      <td>73.219243</td>\n",
              "      <td>64</td>\n",
              "      <td>430</td>\n",
              "      <td>...</td>\n",
              "      <td>62</td>\n",
              "      <td>8.13</td>\n",
              "      <td>64</td>\n",
              "      <td>0.1</td>\n",
              "      <td>631.744976</td>\n",
              "      <td>31731688.0</td>\n",
              "      <td>17.7</td>\n",
              "      <td>17.7</td>\n",
              "      <td>0.470</td>\n",
              "      <td>9.9</td>\n",
              "    </tr>\n",
              "    <tr>\n",
              "      <th>3</th>\n",
              "      <td>Afghanistan</td>\n",
              "      <td>2012</td>\n",
              "      <td>Developing</td>\n",
              "      <td>59.5</td>\n",
              "      <td>272</td>\n",
              "      <td>69</td>\n",
              "      <td>0.01</td>\n",
              "      <td>78.184215</td>\n",
              "      <td>67</td>\n",
              "      <td>2787</td>\n",
              "      <td>...</td>\n",
              "      <td>67</td>\n",
              "      <td>8.52</td>\n",
              "      <td>67</td>\n",
              "      <td>0.1</td>\n",
              "      <td>669.959000</td>\n",
              "      <td>3696958.0</td>\n",
              "      <td>17.9</td>\n",
              "      <td>18.0</td>\n",
              "      <td>0.463</td>\n",
              "      <td>9.8</td>\n",
              "    </tr>\n",
              "    <tr>\n",
              "      <th>4</th>\n",
              "      <td>Afghanistan</td>\n",
              "      <td>2011</td>\n",
              "      <td>Developing</td>\n",
              "      <td>59.2</td>\n",
              "      <td>275</td>\n",
              "      <td>71</td>\n",
              "      <td>0.01</td>\n",
              "      <td>7.097109</td>\n",
              "      <td>68</td>\n",
              "      <td>3013</td>\n",
              "      <td>...</td>\n",
              "      <td>68</td>\n",
              "      <td>7.87</td>\n",
              "      <td>68</td>\n",
              "      <td>0.1</td>\n",
              "      <td>63.537231</td>\n",
              "      <td>2978599.0</td>\n",
              "      <td>18.2</td>\n",
              "      <td>18.2</td>\n",
              "      <td>0.454</td>\n",
              "      <td>9.5</td>\n",
              "    </tr>\n",
              "  </tbody>\n",
              "</table>\n",
              "<p>5 rows × 22 columns</p>\n",
              "</div>\n",
              "      <button class=\"colab-df-convert\" onclick=\"convertToInteractive('df-2b46cfc6-33b8-45fa-8f34-6a62c72a888e')\"\n",
              "              title=\"Convert this dataframe to an interactive table.\"\n",
              "              style=\"display:none;\">\n",
              "        \n",
              "  <svg xmlns=\"http://www.w3.org/2000/svg\" height=\"24px\"viewBox=\"0 0 24 24\"\n",
              "       width=\"24px\">\n",
              "    <path d=\"M0 0h24v24H0V0z\" fill=\"none\"/>\n",
              "    <path d=\"M18.56 5.44l.94 2.06.94-2.06 2.06-.94-2.06-.94-.94-2.06-.94 2.06-2.06.94zm-11 1L8.5 8.5l.94-2.06 2.06-.94-2.06-.94L8.5 2.5l-.94 2.06-2.06.94zm10 10l.94 2.06.94-2.06 2.06-.94-2.06-.94-.94-2.06-.94 2.06-2.06.94z\"/><path d=\"M17.41 7.96l-1.37-1.37c-.4-.4-.92-.59-1.43-.59-.52 0-1.04.2-1.43.59L10.3 9.45l-7.72 7.72c-.78.78-.78 2.05 0 2.83L4 21.41c.39.39.9.59 1.41.59.51 0 1.02-.2 1.41-.59l7.78-7.78 2.81-2.81c.8-.78.8-2.07 0-2.86zM5.41 20L4 18.59l7.72-7.72 1.47 1.35L5.41 20z\"/>\n",
              "  </svg>\n",
              "      </button>\n",
              "      \n",
              "  <style>\n",
              "    .colab-df-container {\n",
              "      display:flex;\n",
              "      flex-wrap:wrap;\n",
              "      gap: 12px;\n",
              "    }\n",
              "\n",
              "    .colab-df-convert {\n",
              "      background-color: #E8F0FE;\n",
              "      border: none;\n",
              "      border-radius: 50%;\n",
              "      cursor: pointer;\n",
              "      display: none;\n",
              "      fill: #1967D2;\n",
              "      height: 32px;\n",
              "      padding: 0 0 0 0;\n",
              "      width: 32px;\n",
              "    }\n",
              "\n",
              "    .colab-df-convert:hover {\n",
              "      background-color: #E2EBFA;\n",
              "      box-shadow: 0px 1px 2px rgba(60, 64, 67, 0.3), 0px 1px 3px 1px rgba(60, 64, 67, 0.15);\n",
              "      fill: #174EA6;\n",
              "    }\n",
              "\n",
              "    [theme=dark] .colab-df-convert {\n",
              "      background-color: #3B4455;\n",
              "      fill: #D2E3FC;\n",
              "    }\n",
              "\n",
              "    [theme=dark] .colab-df-convert:hover {\n",
              "      background-color: #434B5C;\n",
              "      box-shadow: 0px 1px 3px 1px rgba(0, 0, 0, 0.15);\n",
              "      filter: drop-shadow(0px 1px 2px rgba(0, 0, 0, 0.3));\n",
              "      fill: #FFFFFF;\n",
              "    }\n",
              "  </style>\n",
              "\n",
              "      <script>\n",
              "        const buttonEl =\n",
              "          document.querySelector('#df-2b46cfc6-33b8-45fa-8f34-6a62c72a888e button.colab-df-convert');\n",
              "        buttonEl.style.display =\n",
              "          google.colab.kernel.accessAllowed ? 'block' : 'none';\n",
              "\n",
              "        async function convertToInteractive(key) {\n",
              "          const element = document.querySelector('#df-2b46cfc6-33b8-45fa-8f34-6a62c72a888e');\n",
              "          const dataTable =\n",
              "            await google.colab.kernel.invokeFunction('convertToInteractive',\n",
              "                                                     [key], {});\n",
              "          if (!dataTable) return;\n",
              "\n",
              "          const docLinkHtml = 'Like what you see? Visit the ' +\n",
              "            '<a target=\"_blank\" href=https://colab.research.google.com/notebooks/data_table.ipynb>data table notebook</a>'\n",
              "            + ' to learn more about interactive tables.';\n",
              "          element.innerHTML = '';\n",
              "          dataTable['output_type'] = 'display_data';\n",
              "          await google.colab.output.renderOutput(dataTable, element);\n",
              "          const docLink = document.createElement('div');\n",
              "          docLink.innerHTML = docLinkHtml;\n",
              "          element.appendChild(docLink);\n",
              "        }\n",
              "      </script>\n",
              "    </div>\n",
              "  </div>\n",
              "  "
            ]
          },
          "metadata": {},
          "execution_count": 14
        }
      ],
      "source": [
        "pd.DataFrame(df.take(5), columns = df.columns)"
      ]
    },
    {
      "cell_type": "code",
      "execution_count": null,
      "metadata": {
        "id": "6sb8cze7PMEE"
      },
      "outputs": [],
      "source": [
        "# Selecting only numeric variables from the dataset\n",
        "numeric_features = [t[0] for t in df.dtypes if t[1].startswith(\"int\")]"
      ]
    },
    {
      "cell_type": "code",
      "execution_count": null,
      "metadata": {
        "id": "VrUf60aaPMEE",
        "outputId": "23c06b2b-bc8e-4c75-e128-9607ce4daa9a",
        "colab": {
          "base_uri": "https://localhost:8080/",
          "height": 287
        }
      },
      "outputs": [
        {
          "output_type": "execute_result",
          "data": {
            "text/plain": [
              "  summary                Year     Adult Mortality       infant deaths  \\\n",
              "0   count                2938                2928                2938   \n",
              "1    mean  2007.5187202178352  164.79644808743168  30.303948264125257   \n",
              "2  stddev   4.613840940258099   124.2920790034219  117.92650131339906   \n",
              "3     min                2000                   1                   0   \n",
              "4     max                2015                 723                1800   \n",
              "\n",
              "          Hepatitis B            Measles  under-five deaths   \\\n",
              "0                2385                2938               2938   \n",
              "1   80.94046121593291  2419.5922396187884   42.0357385976855   \n",
              "2  25.070015593018063   11467.27248923461  160.4455484057337   \n",
              "3                   1                   0                  0   \n",
              "4                  99              212183               2500   \n",
              "\n",
              "                Polio        Diphtheria   \n",
              "0                2919               2919  \n",
              "1   82.55018842069202  82.32408359027065  \n",
              "2  23.428045949468476   23.7169120685726  \n",
              "3                   3                  2  \n",
              "4                  99                 99  "
            ],
            "text/html": [
              "\n",
              "  <div id=\"df-0525b9b2-e863-4c55-960f-eb99658ed810\">\n",
              "    <div class=\"colab-df-container\">\n",
              "      <div>\n",
              "<style scoped>\n",
              "    .dataframe tbody tr th:only-of-type {\n",
              "        vertical-align: middle;\n",
              "    }\n",
              "\n",
              "    .dataframe tbody tr th {\n",
              "        vertical-align: top;\n",
              "    }\n",
              "\n",
              "    .dataframe thead th {\n",
              "        text-align: right;\n",
              "    }\n",
              "</style>\n",
              "<table border=\"1\" class=\"dataframe\">\n",
              "  <thead>\n",
              "    <tr style=\"text-align: right;\">\n",
              "      <th></th>\n",
              "      <th>summary</th>\n",
              "      <th>Year</th>\n",
              "      <th>Adult Mortality</th>\n",
              "      <th>infant deaths</th>\n",
              "      <th>Hepatitis B</th>\n",
              "      <th>Measles</th>\n",
              "      <th>under-five deaths</th>\n",
              "      <th>Polio</th>\n",
              "      <th>Diphtheria</th>\n",
              "    </tr>\n",
              "  </thead>\n",
              "  <tbody>\n",
              "    <tr>\n",
              "      <th>0</th>\n",
              "      <td>count</td>\n",
              "      <td>2938</td>\n",
              "      <td>2928</td>\n",
              "      <td>2938</td>\n",
              "      <td>2385</td>\n",
              "      <td>2938</td>\n",
              "      <td>2938</td>\n",
              "      <td>2919</td>\n",
              "      <td>2919</td>\n",
              "    </tr>\n",
              "    <tr>\n",
              "      <th>1</th>\n",
              "      <td>mean</td>\n",
              "      <td>2007.5187202178352</td>\n",
              "      <td>164.79644808743168</td>\n",
              "      <td>30.303948264125257</td>\n",
              "      <td>80.94046121593291</td>\n",
              "      <td>2419.5922396187884</td>\n",
              "      <td>42.0357385976855</td>\n",
              "      <td>82.55018842069202</td>\n",
              "      <td>82.32408359027065</td>\n",
              "    </tr>\n",
              "    <tr>\n",
              "      <th>2</th>\n",
              "      <td>stddev</td>\n",
              "      <td>4.613840940258099</td>\n",
              "      <td>124.2920790034219</td>\n",
              "      <td>117.92650131339906</td>\n",
              "      <td>25.070015593018063</td>\n",
              "      <td>11467.27248923461</td>\n",
              "      <td>160.4455484057337</td>\n",
              "      <td>23.428045949468476</td>\n",
              "      <td>23.7169120685726</td>\n",
              "    </tr>\n",
              "    <tr>\n",
              "      <th>3</th>\n",
              "      <td>min</td>\n",
              "      <td>2000</td>\n",
              "      <td>1</td>\n",
              "      <td>0</td>\n",
              "      <td>1</td>\n",
              "      <td>0</td>\n",
              "      <td>0</td>\n",
              "      <td>3</td>\n",
              "      <td>2</td>\n",
              "    </tr>\n",
              "    <tr>\n",
              "      <th>4</th>\n",
              "      <td>max</td>\n",
              "      <td>2015</td>\n",
              "      <td>723</td>\n",
              "      <td>1800</td>\n",
              "      <td>99</td>\n",
              "      <td>212183</td>\n",
              "      <td>2500</td>\n",
              "      <td>99</td>\n",
              "      <td>99</td>\n",
              "    </tr>\n",
              "  </tbody>\n",
              "</table>\n",
              "</div>\n",
              "      <button class=\"colab-df-convert\" onclick=\"convertToInteractive('df-0525b9b2-e863-4c55-960f-eb99658ed810')\"\n",
              "              title=\"Convert this dataframe to an interactive table.\"\n",
              "              style=\"display:none;\">\n",
              "        \n",
              "  <svg xmlns=\"http://www.w3.org/2000/svg\" height=\"24px\"viewBox=\"0 0 24 24\"\n",
              "       width=\"24px\">\n",
              "    <path d=\"M0 0h24v24H0V0z\" fill=\"none\"/>\n",
              "    <path d=\"M18.56 5.44l.94 2.06.94-2.06 2.06-.94-2.06-.94-.94-2.06-.94 2.06-2.06.94zm-11 1L8.5 8.5l.94-2.06 2.06-.94-2.06-.94L8.5 2.5l-.94 2.06-2.06.94zm10 10l.94 2.06.94-2.06 2.06-.94-2.06-.94-.94-2.06-.94 2.06-2.06.94z\"/><path d=\"M17.41 7.96l-1.37-1.37c-.4-.4-.92-.59-1.43-.59-.52 0-1.04.2-1.43.59L10.3 9.45l-7.72 7.72c-.78.78-.78 2.05 0 2.83L4 21.41c.39.39.9.59 1.41.59.51 0 1.02-.2 1.41-.59l7.78-7.78 2.81-2.81c.8-.78.8-2.07 0-2.86zM5.41 20L4 18.59l7.72-7.72 1.47 1.35L5.41 20z\"/>\n",
              "  </svg>\n",
              "      </button>\n",
              "      \n",
              "  <style>\n",
              "    .colab-df-container {\n",
              "      display:flex;\n",
              "      flex-wrap:wrap;\n",
              "      gap: 12px;\n",
              "    }\n",
              "\n",
              "    .colab-df-convert {\n",
              "      background-color: #E8F0FE;\n",
              "      border: none;\n",
              "      border-radius: 50%;\n",
              "      cursor: pointer;\n",
              "      display: none;\n",
              "      fill: #1967D2;\n",
              "      height: 32px;\n",
              "      padding: 0 0 0 0;\n",
              "      width: 32px;\n",
              "    }\n",
              "\n",
              "    .colab-df-convert:hover {\n",
              "      background-color: #E2EBFA;\n",
              "      box-shadow: 0px 1px 2px rgba(60, 64, 67, 0.3), 0px 1px 3px 1px rgba(60, 64, 67, 0.15);\n",
              "      fill: #174EA6;\n",
              "    }\n",
              "\n",
              "    [theme=dark] .colab-df-convert {\n",
              "      background-color: #3B4455;\n",
              "      fill: #D2E3FC;\n",
              "    }\n",
              "\n",
              "    [theme=dark] .colab-df-convert:hover {\n",
              "      background-color: #434B5C;\n",
              "      box-shadow: 0px 1px 3px 1px rgba(0, 0, 0, 0.15);\n",
              "      filter: drop-shadow(0px 1px 2px rgba(0, 0, 0, 0.3));\n",
              "      fill: #FFFFFF;\n",
              "    }\n",
              "  </style>\n",
              "\n",
              "      <script>\n",
              "        const buttonEl =\n",
              "          document.querySelector('#df-0525b9b2-e863-4c55-960f-eb99658ed810 button.colab-df-convert');\n",
              "        buttonEl.style.display =\n",
              "          google.colab.kernel.accessAllowed ? 'block' : 'none';\n",
              "\n",
              "        async function convertToInteractive(key) {\n",
              "          const element = document.querySelector('#df-0525b9b2-e863-4c55-960f-eb99658ed810');\n",
              "          const dataTable =\n",
              "            await google.colab.kernel.invokeFunction('convertToInteractive',\n",
              "                                                     [key], {});\n",
              "          if (!dataTable) return;\n",
              "\n",
              "          const docLinkHtml = 'Like what you see? Visit the ' +\n",
              "            '<a target=\"_blank\" href=https://colab.research.google.com/notebooks/data_table.ipynb>data table notebook</a>'\n",
              "            + ' to learn more about interactive tables.';\n",
              "          element.innerHTML = '';\n",
              "          dataTable['output_type'] = 'display_data';\n",
              "          await google.colab.output.renderOutput(dataTable, element);\n",
              "          const docLink = document.createElement('div');\n",
              "          docLink.innerHTML = docLinkHtml;\n",
              "          element.appendChild(docLink);\n",
              "        }\n",
              "      </script>\n",
              "    </div>\n",
              "  </div>\n",
              "  "
            ]
          },
          "metadata": {},
          "execution_count": 16
        }
      ],
      "source": [
        "df.select(numeric_features).describe().toPandas()"
      ]
    },
    {
      "cell_type": "code",
      "execution_count": null,
      "metadata": {
        "id": "VDrb4uN5PMEF",
        "outputId": "c45f4ee2-a215-4e1e-81a6-d09a1b98966d",
        "colab": {
          "base_uri": "https://localhost:8080/",
          "height": 305
        }
      },
      "outputs": [
        {
          "output_type": "execute_result",
          "data": {
            "text/plain": [
              "  summary   Life expectancy              Alcohol percentage expenditure  \\\n",
              "0   count               2928                2744                   2938   \n",
              "1    mean  69.22493169398912  4.6028607871720375      738.2512954533823   \n",
              "2  stddev  9.523867487824305   4.052412658755658      1987.914858016194   \n",
              "3     min               36.3                0.01                    0.0   \n",
              "4     max               89.0               17.87            19479.91161   \n",
              "\n",
              "                 BMI    Total expenditure            HIV/AIDS  \\\n",
              "0                2904                2712                2938   \n",
              "1   38.32124655647373  5.9381895280235915  1.7421034717494939   \n",
              "2  20.044033502562083   2.498319672155633   5.077784531086547   \n",
              "3                 1.0                0.37                 0.1   \n",
              "4                87.3                17.6                50.6   \n",
              "\n",
              "                  GDP            Population  thinness  1-19 years  \\\n",
              "0                2490                  2286                  2904   \n",
              "1   7483.158469138481  1.2753375120052498E7    4.8397038567493205   \n",
              "2  14270.169341515959   6.101209650842794E7     4.420194947144322   \n",
              "3             1.68135                  34.0                   0.1   \n",
              "4         119172.7418         1.293859294E9                  27.7   \n",
              "\n",
              "   thinness 5-9 years Income composition of resources           Schooling  \n",
              "0                2904                            2771                2775  \n",
              "1   4.870316804407711              0.6275510645976166  11.992792792792786  \n",
              "2   4.508882086983007              0.2109035551515931  3.3589197211023554  \n",
              "3                 0.1                             0.0                 0.0  \n",
              "4                28.6                           0.948                20.7  "
            ],
            "text/html": [
              "\n",
              "  <div id=\"df-33bada8e-058b-4e2f-88f0-00ff7aa1512c\">\n",
              "    <div class=\"colab-df-container\">\n",
              "      <div>\n",
              "<style scoped>\n",
              "    .dataframe tbody tr th:only-of-type {\n",
              "        vertical-align: middle;\n",
              "    }\n",
              "\n",
              "    .dataframe tbody tr th {\n",
              "        vertical-align: top;\n",
              "    }\n",
              "\n",
              "    .dataframe thead th {\n",
              "        text-align: right;\n",
              "    }\n",
              "</style>\n",
              "<table border=\"1\" class=\"dataframe\">\n",
              "  <thead>\n",
              "    <tr style=\"text-align: right;\">\n",
              "      <th></th>\n",
              "      <th>summary</th>\n",
              "      <th>Life expectancy</th>\n",
              "      <th>Alcohol</th>\n",
              "      <th>percentage expenditure</th>\n",
              "      <th>BMI</th>\n",
              "      <th>Total expenditure</th>\n",
              "      <th>HIV/AIDS</th>\n",
              "      <th>GDP</th>\n",
              "      <th>Population</th>\n",
              "      <th>thinness  1-19 years</th>\n",
              "      <th>thinness 5-9 years</th>\n",
              "      <th>Income composition of resources</th>\n",
              "      <th>Schooling</th>\n",
              "    </tr>\n",
              "  </thead>\n",
              "  <tbody>\n",
              "    <tr>\n",
              "      <th>0</th>\n",
              "      <td>count</td>\n",
              "      <td>2928</td>\n",
              "      <td>2744</td>\n",
              "      <td>2938</td>\n",
              "      <td>2904</td>\n",
              "      <td>2712</td>\n",
              "      <td>2938</td>\n",
              "      <td>2490</td>\n",
              "      <td>2286</td>\n",
              "      <td>2904</td>\n",
              "      <td>2904</td>\n",
              "      <td>2771</td>\n",
              "      <td>2775</td>\n",
              "    </tr>\n",
              "    <tr>\n",
              "      <th>1</th>\n",
              "      <td>mean</td>\n",
              "      <td>69.22493169398912</td>\n",
              "      <td>4.6028607871720375</td>\n",
              "      <td>738.2512954533823</td>\n",
              "      <td>38.32124655647373</td>\n",
              "      <td>5.9381895280235915</td>\n",
              "      <td>1.7421034717494939</td>\n",
              "      <td>7483.158469138481</td>\n",
              "      <td>1.2753375120052498E7</td>\n",
              "      <td>4.8397038567493205</td>\n",
              "      <td>4.870316804407711</td>\n",
              "      <td>0.6275510645976166</td>\n",
              "      <td>11.992792792792786</td>\n",
              "    </tr>\n",
              "    <tr>\n",
              "      <th>2</th>\n",
              "      <td>stddev</td>\n",
              "      <td>9.523867487824305</td>\n",
              "      <td>4.052412658755658</td>\n",
              "      <td>1987.914858016194</td>\n",
              "      <td>20.044033502562083</td>\n",
              "      <td>2.498319672155633</td>\n",
              "      <td>5.077784531086547</td>\n",
              "      <td>14270.169341515959</td>\n",
              "      <td>6.101209650842794E7</td>\n",
              "      <td>4.420194947144322</td>\n",
              "      <td>4.508882086983007</td>\n",
              "      <td>0.2109035551515931</td>\n",
              "      <td>3.3589197211023554</td>\n",
              "    </tr>\n",
              "    <tr>\n",
              "      <th>3</th>\n",
              "      <td>min</td>\n",
              "      <td>36.3</td>\n",
              "      <td>0.01</td>\n",
              "      <td>0.0</td>\n",
              "      <td>1.0</td>\n",
              "      <td>0.37</td>\n",
              "      <td>0.1</td>\n",
              "      <td>1.68135</td>\n",
              "      <td>34.0</td>\n",
              "      <td>0.1</td>\n",
              "      <td>0.1</td>\n",
              "      <td>0.0</td>\n",
              "      <td>0.0</td>\n",
              "    </tr>\n",
              "    <tr>\n",
              "      <th>4</th>\n",
              "      <td>max</td>\n",
              "      <td>89.0</td>\n",
              "      <td>17.87</td>\n",
              "      <td>19479.91161</td>\n",
              "      <td>87.3</td>\n",
              "      <td>17.6</td>\n",
              "      <td>50.6</td>\n",
              "      <td>119172.7418</td>\n",
              "      <td>1.293859294E9</td>\n",
              "      <td>27.7</td>\n",
              "      <td>28.6</td>\n",
              "      <td>0.948</td>\n",
              "      <td>20.7</td>\n",
              "    </tr>\n",
              "  </tbody>\n",
              "</table>\n",
              "</div>\n",
              "      <button class=\"colab-df-convert\" onclick=\"convertToInteractive('df-33bada8e-058b-4e2f-88f0-00ff7aa1512c')\"\n",
              "              title=\"Convert this dataframe to an interactive table.\"\n",
              "              style=\"display:none;\">\n",
              "        \n",
              "  <svg xmlns=\"http://www.w3.org/2000/svg\" height=\"24px\"viewBox=\"0 0 24 24\"\n",
              "       width=\"24px\">\n",
              "    <path d=\"M0 0h24v24H0V0z\" fill=\"none\"/>\n",
              "    <path d=\"M18.56 5.44l.94 2.06.94-2.06 2.06-.94-2.06-.94-.94-2.06-.94 2.06-2.06.94zm-11 1L8.5 8.5l.94-2.06 2.06-.94-2.06-.94L8.5 2.5l-.94 2.06-2.06.94zm10 10l.94 2.06.94-2.06 2.06-.94-2.06-.94-.94-2.06-.94 2.06-2.06.94z\"/><path d=\"M17.41 7.96l-1.37-1.37c-.4-.4-.92-.59-1.43-.59-.52 0-1.04.2-1.43.59L10.3 9.45l-7.72 7.72c-.78.78-.78 2.05 0 2.83L4 21.41c.39.39.9.59 1.41.59.51 0 1.02-.2 1.41-.59l7.78-7.78 2.81-2.81c.8-.78.8-2.07 0-2.86zM5.41 20L4 18.59l7.72-7.72 1.47 1.35L5.41 20z\"/>\n",
              "  </svg>\n",
              "      </button>\n",
              "      \n",
              "  <style>\n",
              "    .colab-df-container {\n",
              "      display:flex;\n",
              "      flex-wrap:wrap;\n",
              "      gap: 12px;\n",
              "    }\n",
              "\n",
              "    .colab-df-convert {\n",
              "      background-color: #E8F0FE;\n",
              "      border: none;\n",
              "      border-radius: 50%;\n",
              "      cursor: pointer;\n",
              "      display: none;\n",
              "      fill: #1967D2;\n",
              "      height: 32px;\n",
              "      padding: 0 0 0 0;\n",
              "      width: 32px;\n",
              "    }\n",
              "\n",
              "    .colab-df-convert:hover {\n",
              "      background-color: #E2EBFA;\n",
              "      box-shadow: 0px 1px 2px rgba(60, 64, 67, 0.3), 0px 1px 3px 1px rgba(60, 64, 67, 0.15);\n",
              "      fill: #174EA6;\n",
              "    }\n",
              "\n",
              "    [theme=dark] .colab-df-convert {\n",
              "      background-color: #3B4455;\n",
              "      fill: #D2E3FC;\n",
              "    }\n",
              "\n",
              "    [theme=dark] .colab-df-convert:hover {\n",
              "      background-color: #434B5C;\n",
              "      box-shadow: 0px 1px 3px 1px rgba(0, 0, 0, 0.15);\n",
              "      filter: drop-shadow(0px 1px 2px rgba(0, 0, 0, 0.3));\n",
              "      fill: #FFFFFF;\n",
              "    }\n",
              "  </style>\n",
              "\n",
              "      <script>\n",
              "        const buttonEl =\n",
              "          document.querySelector('#df-33bada8e-058b-4e2f-88f0-00ff7aa1512c button.colab-df-convert');\n",
              "        buttonEl.style.display =\n",
              "          google.colab.kernel.accessAllowed ? 'block' : 'none';\n",
              "\n",
              "        async function convertToInteractive(key) {\n",
              "          const element = document.querySelector('#df-33bada8e-058b-4e2f-88f0-00ff7aa1512c');\n",
              "          const dataTable =\n",
              "            await google.colab.kernel.invokeFunction('convertToInteractive',\n",
              "                                                     [key], {});\n",
              "          if (!dataTable) return;\n",
              "\n",
              "          const docLinkHtml = 'Like what you see? Visit the ' +\n",
              "            '<a target=\"_blank\" href=https://colab.research.google.com/notebooks/data_table.ipynb>data table notebook</a>'\n",
              "            + ' to learn more about interactive tables.';\n",
              "          element.innerHTML = '';\n",
              "          dataTable['output_type'] = 'display_data';\n",
              "          await google.colab.output.renderOutput(dataTable, element);\n",
              "          const docLink = document.createElement('div');\n",
              "          docLink.innerHTML = docLinkHtml;\n",
              "          element.appendChild(docLink);\n",
              "        }\n",
              "      </script>\n",
              "    </div>\n",
              "  </div>\n",
              "  "
            ]
          },
          "metadata": {},
          "execution_count": 17
        }
      ],
      "source": [
        "# Selecting only numeric variables from the dataset\n",
        "numeric_features = [t[0] for t in df.dtypes if t[1].startswith(\"double\")]\n",
        "df.select(numeric_features).describe().toPandas()"
      ]
    },
    {
      "cell_type": "code",
      "execution_count": null,
      "metadata": {
        "id": "FLzxri-XPMEG"
      },
      "outputs": [],
      "source": [
        "df_pandas = df.toPandas()"
      ]
    },
    {
      "cell_type": "code",
      "execution_count": null,
      "metadata": {
        "id": "fthjxmUaPMEG",
        "outputId": "8f124762-8b6d-4079-b34d-6024e9e2998f",
        "colab": {
          "base_uri": "https://localhost:8080/"
        }
      },
      "outputs": [
        {
          "output_type": "stream",
          "name": "stdout",
          "text": [
            "Average Life Expectancy in Pakistan over the years\n"
          ]
        },
        {
          "output_type": "execute_result",
          "data": {
            "text/plain": [
              "[Row(Year=2015, average_life=66.4),\n",
              " Row(Year=2014, average_life=66.2),\n",
              " Row(Year=2013, average_life=66.0),\n",
              " Row(Year=2012, average_life=65.7),\n",
              " Row(Year=2011, average_life=65.5),\n",
              " Row(Year=2010, average_life=65.1),\n",
              " Row(Year=2009, average_life=64.8),\n",
              " Row(Year=2008, average_life=64.6),\n",
              " Row(Year=2007, average_life=64.4),\n",
              " Row(Year=2006, average_life=64.2),\n",
              " Row(Year=2004, average_life=63.7),\n",
              " Row(Year=2003, average_life=63.5),\n",
              " Row(Year=2002, average_life=63.2),\n",
              " Row(Year=2001, average_life=63.0),\n",
              " Row(Year=2005, average_life=62.9),\n",
              " Row(Year=2000, average_life=62.8)]"
            ]
          },
          "metadata": {},
          "execution_count": 19
        }
      ],
      "source": [
        "print('Average Life Expectancy in Pakistan over the years')\n",
        "df.filter(df[\"Country\"] == \"Pakistan\").groupBy(\"Year\") .agg(mean(\"Life expectancy \").alias(\"average_life\")).orderBy(desc(\"average_life\")) .take(100)"
      ]
    },
    {
      "cell_type": "code",
      "execution_count": null,
      "metadata": {
        "id": "6zBhDMvMPMEH",
        "outputId": "f12a31f0-4cbd-4e0d-ca37-872c30163e5a",
        "colab": {
          "base_uri": "https://localhost:8080/"
        }
      },
      "outputs": [
        {
          "output_type": "stream",
          "name": "stdout",
          "text": [
            "Average Life Expectancy in Austria over the years\n"
          ]
        },
        {
          "output_type": "execute_result",
          "data": {
            "text/plain": [
              "[Row(Year=2012, average_life=88.0),\n",
              " Row(Year=2011, average_life=88.0),\n",
              " Row(Year=2010, average_life=84.0),\n",
              " Row(Year=2008, average_life=84.0),\n",
              " Row(Year=2009, average_life=82.0),\n",
              " Row(Year=2015, average_life=81.5),\n",
              " Row(Year=2014, average_life=81.4),\n",
              " Row(Year=2013, average_life=81.1),\n",
              " Row(Year=2007, average_life=81.0),\n",
              " Row(Year=2006, average_life=79.8),\n",
              " Row(Year=2005, average_life=79.4),\n",
              " Row(Year=2004, average_life=79.3),\n",
              " Row(Year=2003, average_life=78.8),\n",
              " Row(Year=2002, average_life=78.7),\n",
              " Row(Year=2001, average_life=78.6),\n",
              " Row(Year=2000, average_life=78.1)]"
            ]
          },
          "metadata": {},
          "execution_count": 20
        }
      ],
      "source": [
        "print('Average Life Expectancy in Austria over the years')\n",
        "df.filter(df[\"Country\"] == \"Austria\").groupBy(\"Year\") .agg(mean(\"Life expectancy \").alias(\"average_life\")).orderBy(desc(\"average_life\")) .take(100)"
      ]
    },
    {
      "cell_type": "code",
      "execution_count": null,
      "metadata": {
        "id": "g3aa91k0PMEI",
        "outputId": "6773ad60-cb28-46b3-ee9e-111d06582eef",
        "colab": {
          "base_uri": "https://localhost:8080/"
        }
      },
      "outputs": [
        {
          "output_type": "stream",
          "name": "stdout",
          "text": [
            "Average Life Expectancy in Afghanistan over the years\n"
          ]
        },
        {
          "output_type": "execute_result",
          "data": {
            "text/plain": [
              "[Row(Year=2015, average_life=65.0),\n",
              " Row(Year=2013, average_life=59.9),\n",
              " Row(Year=2014, average_life=59.9),\n",
              " Row(Year=2012, average_life=59.5),\n",
              " Row(Year=2011, average_life=59.2),\n",
              " Row(Year=2010, average_life=58.8),\n",
              " Row(Year=2009, average_life=58.6),\n",
              " Row(Year=2008, average_life=58.1),\n",
              " Row(Year=2007, average_life=57.5),\n",
              " Row(Year=2005, average_life=57.3),\n",
              " Row(Year=2006, average_life=57.3),\n",
              " Row(Year=2004, average_life=57.0),\n",
              " Row(Year=2003, average_life=56.7),\n",
              " Row(Year=2002, average_life=56.2),\n",
              " Row(Year=2001, average_life=55.3),\n",
              " Row(Year=2000, average_life=54.8)]"
            ]
          },
          "metadata": {},
          "execution_count": 21
        }
      ],
      "source": [
        "print('Average Life Expectancy in Afghanistan over the years')\n",
        "df.filter(df[\"Country\"] == \"Afghanistan\").groupBy(\"Year\") .agg(mean(\"Life expectancy \").alias(\"average_life\")).orderBy(desc(\"average_life\")) .take(100)"
      ]
    },
    {
      "cell_type": "markdown",
      "metadata": {
        "id": "Pk73TfiuPMEJ"
      },
      "source": [
        "### Exploratory Data Analysis"
      ]
    },
    {
      "cell_type": "code",
      "execution_count": null,
      "metadata": {
        "id": "jXHYOIHrPMEJ",
        "outputId": "f9bd226f-055f-4468-e7b8-b51f8f53e091",
        "colab": {
          "base_uri": "https://localhost:8080/",
          "height": 250
        }
      },
      "outputs": [
        {
          "output_type": "display_data",
          "data": {
            "text/plain": [
              "<Figure size 2160x360 with 1 Axes>"
            ],
            "image/png": "[encoded data removed]"
          },
          "metadata": {
            "needs_background": "light"
          }
        }
      ],
      "source": [
        "#Illustration of Infant deaths according to the years\n",
        "plt.figure(figsize=(30,5))\n",
        "val=df_pandas.groupby('Year')['infant deaths'].mean()[:20].sort_values(ascending=False).plot(kind='bar',fontsize=20,color='#2e4053')"
      ]
    },
    {
      "cell_type": "code",
      "execution_count": null,
      "metadata": {
        "id": "bDSc9kSrPMEK",
        "outputId": "343acece-21dd-4c93-ed88-279d43304385",
        "colab": {
          "base_uri": "https://localhost:8080/",
          "height": 250
        }
      },
      "outputs": [
        {
          "output_type": "display_data",
          "data": {
            "text/plain": [
              "<Figure size 2160x360 with 1 Axes>"
            ],
            "image/png": "[encoded data removed]"
          },
          "metadata": {
            "needs_background": "light"
          }
        }
      ],
      "source": [
        "#Top 20 years with polio.\n",
        "plt.figure(figsize=(30,5))\n",
        "val=df_pandas.groupby('Year')['Polio'].mean()[:20].sort_values(ascending=False).plot(kind='bar',fontsize=20,color='#2e4053')"
      ]
    },
    {
      "cell_type": "code",
      "execution_count": null,
      "metadata": {
        "id": "shengFO4PMEK",
        "outputId": "f9330d99-bfd7-47f1-936d-7dcfc7d399ec",
        "colab": {
          "base_uri": "https://localhost:8080/",
          "height": 250
        }
      },
      "outputs": [
        {
          "output_type": "display_data",
          "data": {
            "text/plain": [
              "<Figure size 2160x360 with 1 Axes>"
            ],
            "image/png": "[encoded data removed]"
          },
          "metadata": {
            "needs_background": "light"
          }
        }
      ],
      "source": [
        "#Illustration on the basis of Schooling\n",
        "plt.figure(figsize=(30,5))\n",
        "val=df_pandas.groupby('Year')['Schooling'].mean()[:20].sort_values(ascending=False).plot(kind='bar',fontsize=20,color='#2e4053')"
      ]
    },
    {
      "cell_type": "code",
      "execution_count": null,
      "metadata": {
        "id": "DvuxZdaAPMEL",
        "outputId": "aaf65b22-63f9-4c2f-ed73-25d9bd2afbc5",
        "colab": {
          "base_uri": "https://localhost:8080/",
          "height": 356
        }
      },
      "outputs": [
        {
          "output_type": "display_data",
          "data": {
            "text/plain": [
              "<Figure size 2160x360 with 1 Axes>"
            ],
            "image/png": "[encoded data removed]"
          },
          "metadata": {
            "needs_background": "light"
          }
        }
      ],
      "source": [
        "#Top 10 countries with life-expectancy.\n",
        "plt.figure(figsize=(30,5))\n",
        "val=df_pandas.groupby('Country')['Life expectancy '].mean()[:10].sort_values(ascending=False).plot(kind='bar',fontsize=20, color='#087E8B')"
      ]
    },
    {
      "cell_type": "code",
      "execution_count": null,
      "metadata": {
        "id": "06O3rZwnPMEL",
        "outputId": "eda890ed-9ff9-493c-dfd9-23c40ab6d3cf",
        "colab": {
          "base_uri": "https://localhost:8080/",
          "height": 466
        }
      },
      "outputs": [
        {
          "output_type": "display_data",
          "data": {
            "text/plain": [
              "<Figure size 1440x360 with 1 Axes>"
            ],
            "image/png": "[encoded data removed]"
          },
          "metadata": {
            "needs_background": "light"
          }
        }
      ],
      "source": [
        "# Top 10 countries on adult mortality\n",
        "plt.figure(figsize=(20,5))\n",
        "val=df_pandas.groupby('Country')['Adult Mortality'].mean()[:10].sort_values(ascending=False).plot(kind='bar',fontsize=15, color='#087E8B')"
      ]
    },
    {
      "cell_type": "code",
      "execution_count": null,
      "metadata": {
        "id": "eLu53IlnPMEM",
        "outputId": "3d909ad3-9719-4818-eec0-f6ca05d88cdf",
        "colab": {
          "base_uri": "https://localhost:8080/",
          "height": 468
        }
      },
      "outputs": [
        {
          "output_type": "display_data",
          "data": {
            "text/plain": [
              "<Figure size 1440x360 with 1 Axes>"
            ],
            "image/png": "[encoded data removed]"
          },
          "metadata": {
            "needs_background": "light"
          }
        }
      ],
      "source": [
        "# Top 10 countries on adult HIV/AIDS\n",
        "plt.figure(figsize=(20,5))\n",
        "val=df_pandas.groupby('Country')[' HIV/AIDS'].mean()[:10].sort_values(ascending=False).plot(kind='bar',fontsize=15, color='#087E8B')"
      ]
    },
    {
      "cell_type": "code",
      "execution_count": null,
      "metadata": {
        "id": "rd_Pj8AhPMEN",
        "outputId": "a610381e-c9d2-4503-a8b2-08ea3cee9722",
        "colab": {
          "base_uri": "https://localhost:8080/",
          "height": 561
        }
      },
      "outputs": [
        {
          "output_type": "execute_result",
          "data": {
            "text/plain": [
              "<matplotlib.axes._subplots.AxesSubplot at 0x7ff7100567d0>"
            ]
          },
          "metadata": {},
          "execution_count": 28
        },
        {
          "output_type": "display_data",
          "data": {
            "text/plain": [
              "<Figure size 576x576 with 1 Axes>"
            ],
            "image/png": "[encoded data removed]"
          },
          "metadata": {
            "needs_background": "light"
          }
        }
      ],
      "source": [
        "#Identifying relationship between Country Status and Life Expectancy\n",
        "plt.figure(figsize=(8,8))\n",
        "df_pandas.groupby(['Status'])['Life expectancy '].mean().plot(kind='bar', color='#087E8B')"
      ]
    },
    {
      "cell_type": "code",
      "execution_count": null,
      "metadata": {
        "id": "NqOHc_ccPMEN",
        "outputId": "e813bc71-d8e3-4447-c7b7-d3b1b2818a4f",
        "colab": {
          "base_uri": "https://localhost:8080/",
          "height": 768
        }
      },
      "outputs": [
        {
          "output_type": "execute_result",
          "data": {
            "text/plain": [
              "<matplotlib.axes._subplots.AxesSubplot at 0x7ff7046d3390>"
            ]
          },
          "metadata": {},
          "execution_count": 29
        },
        {
          "output_type": "display_data",
          "data": {
            "text/plain": [
              "<Figure size 720x720 with 2 Axes>"
            ],
            "image/png": "[encoded data removed]"
          },
          "metadata": {
            "needs_background": "light"
          }
        }
      ],
      "source": [
        "import seaborn as sns\n",
        "plt.figure(figsize=(10,10))\n",
        "sns.heatmap(df_pandas.corr(),annot=True)"
      ]
    },
    {
      "cell_type": "code",
      "execution_count": null,
      "metadata": {
        "id": "_W6JF2yYPMEN",
        "outputId": "b6e26830-fee4-4333-a439-148492cd36e1",
        "colab": {
          "base_uri": "https://localhost:8080/"
        }
      },
      "outputs": [
        {
          "output_type": "stream",
          "name": "stdout",
          "text": [
            "(2938, 22)\n"
          ]
        }
      ],
      "source": [
        "print((df.count(), len(df.columns)))"
      ]
    },
    {
      "cell_type": "code",
      "execution_count": null,
      "metadata": {
        "id": "lYiNPwj1PMEO"
      },
      "outputs": [],
      "source": [
        "#Dropping null value rows\n",
        "df = df.na.drop()"
      ]
    },
    {
      "cell_type": "code",
      "execution_count": null,
      "metadata": {
        "id": "eaGsrEqZPMEP",
        "outputId": "0baad4b2-27bc-4d9c-ca56-5d26a3dc2117",
        "colab": {
          "base_uri": "https://localhost:8080/"
        }
      },
      "outputs": [
        {
          "output_type": "stream",
          "name": "stdout",
          "text": [
            "(1649, 22)\n"
          ]
        }
      ],
      "source": [
        "print((df.count(), len(df.columns)))"
      ]
    },
    {
      "cell_type": "code",
      "execution_count": null,
      "metadata": {
        "id": "MTTbazokPMEQ",
        "outputId": "4686208d-8ba7-47a4-c314-09bca661d89f",
        "colab": {
          "base_uri": "https://localhost:8080/"
        }
      },
      "outputs": [
        {
          "output_type": "stream",
          "name": "stdout",
          "text": [
            "+----------+-----+\n",
            "|    Status|count|\n",
            "+----------+-----+\n",
            "| Developed|  242|\n",
            "|Developing| 1407|\n",
            "+----------+-----+\n",
            "\n"
          ]
        }
      ],
      "source": [
        "df.groupBy('Status').count().show()"
      ]
    },
    {
      "cell_type": "markdown",
      "metadata": {
        "id": "WX9tCkCSPMER"
      },
      "source": [
        "##### Transforming the Status Column"
      ]
    },
    {
      "cell_type": "code",
      "execution_count": null,
      "metadata": {
        "id": "URuPUI0nPMES"
      },
      "outputs": [],
      "source": [
        "#Transforming the Status Column using StringIndexer\n",
        "from pyspark.ml.feature import StringIndexer"
      ]
    },
    {
      "cell_type": "code",
      "execution_count": null,
      "metadata": {
        "id": "8zGdaLY9PMES"
      },
      "outputs": [],
      "source": [
        "indexer = StringIndexer(inputCol='Status',outputCol='Status_cat')"
      ]
    },
    {
      "cell_type": "code",
      "execution_count": null,
      "metadata": {
        "id": "YHoY1AL4PMET"
      },
      "outputs": [],
      "source": [
        "indexed = indexer.fit(df).transform(df)"
      ]
    },
    {
      "cell_type": "code",
      "execution_count": null,
      "metadata": {
        "id": "oYNriKVlPMET",
        "outputId": "6b3232ab-f852-4da7-de59-dce5ee8c458a",
        "colab": {
          "base_uri": "https://localhost:8080/"
        }
      },
      "outputs": [
        {
          "output_type": "stream",
          "name": "stdout",
          "text": [
            "Row(Country='Afghanistan', Year=2015, Status='Developing', Life expectancy =65.0, Adult Mortality=263, infant deaths=62, Alcohol=0.01, percentage expenditure=71.27962362, Hepatitis B=65, Measles =1154,  BMI =19.1, under-five deaths =83, Polio=6, Total expenditure=8.16, Diphtheria =65,  HIV/AIDS=0.1, GDP=584.25921, Population=33736494.0,  thinness  1-19 years=17.2,  thinness 5-9 years=17.3, Income composition of resources=0.479, Schooling=10.1, Status_cat=0.0)\n",
            "\n",
            "\n",
            "Row(Country='Afghanistan', Year=2014, Status='Developing', Life expectancy =59.9, Adult Mortality=271, infant deaths=64, Alcohol=0.01, percentage expenditure=73.52358168, Hepatitis B=62, Measles =492,  BMI =18.6, under-five deaths =86, Polio=58, Total expenditure=8.18, Diphtheria =62,  HIV/AIDS=0.1, GDP=612.696514, Population=327582.0,  thinness  1-19 years=17.5,  thinness 5-9 years=17.5, Income composition of resources=0.476, Schooling=10.0, Status_cat=0.0)\n",
            "\n",
            "\n"
          ]
        }
      ],
      "source": [
        "for life in indexed.head(2):\n",
        "    print(life)\n",
        "    print('\\n')"
      ]
    },
    {
      "cell_type": "markdown",
      "metadata": {
        "id": "sMxNpYy6PMET"
      },
      "source": [
        "### Feature Engineering"
      ]
    },
    {
      "cell_type": "code",
      "execution_count": null,
      "metadata": {
        "id": "7oM_1oxwPMEU"
      },
      "outputs": [],
      "source": [
        "from pyspark.ml.linalg import Vectors\n",
        "from pyspark.ml.feature import VectorAssembler"
      ]
    },
    {
      "cell_type": "code",
      "execution_count": null,
      "metadata": {
        "id": "E6DGQ6D-PMEU",
        "outputId": "e6b4f179-7378-4b89-ed46-e1e261b92c11",
        "colab": {
          "base_uri": "https://localhost:8080/"
        }
      },
      "outputs": [
        {
          "output_type": "execute_result",
          "data": {
            "text/plain": [
              "['Country',\n",
              " 'Year',\n",
              " 'Status',\n",
              " 'Life expectancy ',\n",
              " 'Adult Mortality',\n",
              " 'infant deaths',\n",
              " 'Alcohol',\n",
              " 'percentage expenditure',\n",
              " 'Hepatitis B',\n",
              " 'Measles ',\n",
              " ' BMI ',\n",
              " 'under-five deaths ',\n",
              " 'Polio',\n",
              " 'Total expenditure',\n",
              " 'Diphtheria ',\n",
              " ' HIV/AIDS',\n",
              " 'GDP',\n",
              " 'Population',\n",
              " ' thinness  1-19 years',\n",
              " ' thinness 5-9 years',\n",
              " 'Income composition of resources',\n",
              " 'Schooling',\n",
              " 'Status_cat']"
            ]
          },
          "metadata": {},
          "execution_count": 39
        }
      ],
      "source": [
        "indexed.columns"
      ]
    },
    {
      "cell_type": "markdown",
      "source": [
        "Create a single vector column using VectorAssembler in PySpark\n",
        "\n",
        "Refer [Here](https://pyshark.com/vectorassembler-in-pyspark/)"
      ],
      "metadata": {
        "id": "aFYcb8qYhGxj"
      }
    },
    {
      "cell_type": "code",
      "execution_count": null,
      "metadata": {
        "id": "U7b02PrtPMEU"
      },
      "outputs": [],
      "source": [
        "assembler = VectorAssembler(inputCols=[\n",
        " 'Adult Mortality',\n",
        " 'infant deaths',\n",
        " 'Alcohol',\n",
        " ' BMI ',\n",
        " 'under-five deaths ',\n",
        " 'Polio',\n",
        " 'Total expenditure',\n",
        " ' HIV/AIDS',\n",
        " 'GDP',\n",
        " ' thinness  1-19 years',\n",
        " ' thinness 5-9 years',\n",
        " 'Income composition of resources',\n",
        " 'Schooling',\n",
        " 'Status_cat'],outputCol='features')"
      ]
    },
    {
      "cell_type": "code",
      "execution_count": null,
      "metadata": {
        "id": "TzXQ30soPMEV"
      },
      "outputs": [],
      "source": [
        "output = assembler.transform(indexed)"
      ]
    },
    {
      "cell_type": "code",
      "execution_count": null,
      "metadata": {
        "id": "OSkio7YYPMEV",
        "outputId": "b344cb90-1157-4e1f-930e-d30654efadad",
        "colab": {
          "base_uri": "https://localhost:8080/"
        }
      },
      "outputs": [
        {
          "output_type": "stream",
          "name": "stdout",
          "text": [
            "+--------------------+----------------+\n",
            "|            features|Life expectancy |\n",
            "+--------------------+----------------+\n",
            "|[65.0,263.0,62.0,...|            65.0|\n",
            "|[59.9,271.0,64.0,...|            59.9|\n",
            "|[59.9,268.0,66.0,...|            59.9|\n",
            "|[59.5,272.0,69.0,...|            59.5|\n",
            "|[59.2,275.0,71.0,...|            59.2|\n",
            "|[58.8,279.0,74.0,...|            58.8|\n",
            "|[58.6,281.0,77.0,...|            58.6|\n",
            "|[58.1,287.0,80.0,...|            58.1|\n",
            "|[57.5,295.0,82.0,...|            57.5|\n",
            "|[57.3,295.0,84.0,...|            57.3|\n",
            "|[57.3,291.0,85.0,...|            57.3|\n",
            "|[57.0,293.0,87.0,...|            57.0|\n",
            "|[56.7,295.0,87.0,...|            56.7|\n",
            "|[56.2,3.0,88.0,0....|            56.2|\n",
            "|[55.3,316.0,88.0,...|            55.3|\n",
            "|[54.8,321.0,88.0,...|            54.8|\n",
            "|[77.8,74.0,0.0,4....|            77.8|\n",
            "|[77.5,8.0,0.0,4.5...|            77.5|\n",
            "|[77.2,84.0,0.0,4....|            77.2|\n",
            "|[76.9,86.0,0.0,5....|            76.9|\n",
            "+--------------------+----------------+\n",
            "only showing top 20 rows\n",
            "\n"
          ]
        }
      ],
      "source": [
        "output.select('features','Life expectancy ').show()"
      ]
    },
    {
      "cell_type": "code",
      "execution_count": null,
      "metadata": {
        "id": "bqSoK0PVPMEW",
        "outputId": "13c5ede7-3270-4ece-c5ee-cdcec509498f",
        "colab": {
          "base_uri": "https://localhost:8080/"
        }
      },
      "outputs": [
        {
          "output_type": "execute_result",
          "data": {
            "text/plain": [
              "pyspark.sql.dataframe.DataFrame"
            ]
          },
          "metadata": {},
          "execution_count": 43
        }
      ],
      "source": [
        "type(output)"
      ]
    },
    {
      "cell_type": "markdown",
      "metadata": {
        "id": "eFLtEfNbPMEW"
      },
      "source": [
        "### Linear Regression"
      ]
    },
    {
      "cell_type": "code",
      "execution_count": null,
      "metadata": {
        "id": "DMJbpNx9PMEW"
      },
      "outputs": [],
      "source": [
        "final_data = output.select('features','Life expectancy ')"
      ]
    },
    {
      "cell_type": "markdown",
      "source": [
        "Divide the data into training and testing data"
      ],
      "metadata": {
        "id": "ckgTRlpfhUCS"
      }
    },
    {
      "cell_type": "code",
      "execution_count": null,
      "metadata": {
        "id": "Hq9XzKlzPMEW"
      },
      "outputs": [],
      "source": [
        "train_data,test_data = final_data.randomSplit([0.8,0.2])"
      ]
    },
    {
      "cell_type": "markdown",
      "source": [
        "Describe the train and test data"
      ],
      "metadata": {
        "id": "kBQQcBz4hgx-"
      }
    },
    {
      "cell_type": "code",
      "execution_count": null,
      "metadata": {
        "id": "kYaHYJhtPMEX"
      },
      "outputs": [],
      "source": [
        "train_data.describe().show()"
      ]
    },
    {
      "cell_type": "code",
      "execution_count": null,
      "metadata": {
        "id": "YxxvVrXnPMEX"
      },
      "outputs": [],
      "source": [
        "test_data.describe().show()"
      ]
    },
    {
      "cell_type": "markdown",
      "source": [
        "Model building using linear regression\n",
        "\n",
        "Refer [Here](https://spark.apache.org/docs/latest/api/python/reference/api/pyspark.ml.regression.LinearRegression.html)"
      ],
      "metadata": {
        "id": "kZUbQUNThmjy"
      }
    },
    {
      "cell_type": "code",
      "execution_count": null,
      "metadata": {
        "id": "DWVHNYyCPMEX"
      },
      "outputs": [],
      "source": [
        "from pyspark.ml.regression import LinearRegression"
      ]
    },
    {
      "cell_type": "code",
      "execution_count": null,
      "metadata": {
        "id": "Mowsxoz2PMEX"
      },
      "outputs": [],
      "source": [
        "lr = LinearRegression(labelCol='Life expectancy ')"
      ]
    },
    {
      "cell_type": "code",
      "execution_count": null,
      "metadata": {
        "id": "IMyORRTBPMEY"
      },
      "outputs": [],
      "source": [
        "lrModel = lr.fit(train_data)"
      ]
    },
    {
      "cell_type": "code",
      "execution_count": null,
      "metadata": {
        "id": "h2KAFaCePMEY"
      },
      "outputs": [],
      "source": [
        "# Print the coefficients and intercept for linear regression\n",
        "print(\"Coefficients: {} Intercept: {}\".format(lrModel.coefficients,lrModel.intercept))"
      ]
    },
    {
      "cell_type": "markdown",
      "metadata": {
        "id": "RZYOpqIQPMEY"
      },
      "source": [
        "#### Evaluation"
      ]
    },
    {
      "cell_type": "code",
      "execution_count": null,
      "metadata": {
        "id": "l3V3-mlnPMEY"
      },
      "outputs": [],
      "source": [
        "test_results = lrModel.evaluate(test_data)"
      ]
    },
    {
      "cell_type": "markdown",
      "source": [
        "Evaluate the test data using RMSE, MSE and R2 Metrics"
      ],
      "metadata": {
        "id": "ehfL3FDIhwjx"
      }
    },
    {
      "cell_type": "code",
      "execution_count": null,
      "metadata": {
        "id": "oiLcB7HRPMEZ"
      },
      "outputs": [],
      "source": [
        "print(\"RMSE: {}\".format(test_results.rootMeanSquaredError))\n",
        "print(\"MSE: {}\".format(test_results.meanSquaredError))\n",
        "print(\"R2: {}\".format(test_results.r2))"
      ]
    },
    {
      "cell_type": "markdown",
      "metadata": {
        "id": "eTfT92JzPMEZ"
      },
      "source": [
        "#### Correlation"
      ]
    },
    {
      "cell_type": "code",
      "execution_count": null,
      "metadata": {
        "id": "XqausmyePMEZ"
      },
      "outputs": [],
      "source": [
        "from pyspark.sql.functions import corr"
      ]
    },
    {
      "cell_type": "markdown",
      "source": [
        "Check Correlation of Life expectancy with infant deaths using corr function"
      ],
      "metadata": {
        "id": "0jbO-FQ-h21H"
      }
    },
    {
      "cell_type": "code",
      "execution_count": null,
      "metadata": {
        "id": "esT4eK1wPMEZ"
      },
      "outputs": [],
      "source": [
        "df.select(corr('Life expectancy ','infant deaths')).show()"
      ]
    },
    {
      "cell_type": "markdown",
      "source": [
        "Checking Correlation of Life expectancy with HIV/AIDS"
      ],
      "metadata": {
        "id": "odmiku3tijtt"
      }
    },
    {
      "cell_type": "code",
      "execution_count": null,
      "metadata": {
        "id": "eJ2D5DC8PMEa"
      },
      "outputs": [],
      "source": [
        "df.select(corr('Life expectancy ',' HIV/AIDS')).show()"
      ]
    },
    {
      "cell_type": "markdown",
      "source": [
        "Checking Correlation of Life expectancy with Adukt Moortality"
      ],
      "metadata": {
        "id": "twFgfelLioVS"
      }
    },
    {
      "cell_type": "code",
      "execution_count": null,
      "metadata": {
        "id": "1ENBxbDxPMEa"
      },
      "outputs": [],
      "source": [
        "df.select(corr('Life expectancy ','Adult Mortality')).show()"
      ]
    },
    {
      "cell_type": "markdown",
      "metadata": {
        "id": "_eQls5HMPMEa"
      },
      "source": [
        "*The above results show negative correlation,negative correlation is a relationship between two variables in which one variable increases as the other decreases, and vice versa. For instance the increase in HIV/AIDS will result in low life expectancy*"
      ]
    },
    {
      "cell_type": "markdown",
      "metadata": {
        "id": "KfjwGyssPMEa"
      },
      "source": [
        "### Random Forest Regressor"
      ]
    },
    {
      "cell_type": "markdown",
      "source": [
        "Model building using Random forest regressor"
      ],
      "metadata": {
        "id": "9iH06PsUitiv"
      }
    },
    {
      "cell_type": "code",
      "execution_count": null,
      "metadata": {
        "id": "Uiz0wvo9PMEa"
      },
      "outputs": [],
      "source": [
        "from pyspark.ml.regression import RandomForestRegressor"
      ]
    },
    {
      "cell_type": "code",
      "execution_count": null,
      "metadata": {
        "id": "W-EWMMB3PMEb"
      },
      "outputs": [],
      "source": [
        "lr_model2 = RandomForestRegressor(labelCol='Life expectancy ')"
      ]
    },
    {
      "cell_type": "markdown",
      "source": [
        "Fit the model"
      ],
      "metadata": {
        "id": "EP5g3h0kixmF"
      }
    },
    {
      "cell_type": "code",
      "execution_count": null,
      "metadata": {
        "id": "_b48BGH5PMEb"
      },
      "outputs": [],
      "source": [
        "model = lr_model2.fit(train_data)"
      ]
    },
    {
      "cell_type": "markdown",
      "source": [
        "Predict the model with test data"
      ],
      "metadata": {
        "id": "A573cOFFi0kD"
      }
    },
    {
      "cell_type": "code",
      "execution_count": null,
      "metadata": {
        "id": "_6P9yZ87PMEb"
      },
      "outputs": [],
      "source": [
        "predictions = model.transform(test_data)"
      ]
    },
    {
      "cell_type": "code",
      "execution_count": null,
      "metadata": {
        "id": "Jxi80RO7PMEb",
        "outputId": "07404d75-27d0-487c-fff6-09fb0ed4b9ed",
        "colab": {
          "base_uri": "https://localhost:8080/"
        }
      },
      "outputs": [
        {
          "output_type": "stream",
          "name": "stdout",
          "text": [
            "+--------------------+----------------+------------------+\n",
            "|            features|Life expectancy |        prediction|\n",
            "+--------------------+----------------+------------------+\n",
            "|[44.3,723.0,27.0,...|            44.3|  47.1339505859052|\n",
            "|[44.6,717.0,28.0,...|            44.6|  47.1339505859052|\n",
            "|[44.8,73.0,25.0,4...|            44.8| 50.48142224665691|\n",
            "|[46.0,665.0,24.0,...|            46.0|  47.1339505859052|\n",
            "|[47.1,568.0,3.0,6...|            47.1|47.887085515744616|\n",
            "|[48.2,632.0,30.0,...|            48.2| 47.38666111222098|\n",
            "|[48.6,453.0,17.0,...|            48.6| 50.52941382170944|\n",
            "|[48.7,371.0,84.0,...|            48.7|  51.5763911716585|\n",
            "|[49.2,446.0,17.0,...|            49.2| 50.52941382170944|\n",
            "|[49.3,554.0,34.0,...|            49.3| 50.38870348595119|\n",
            "|[49.6,365.0,78.0,...|            49.6|51.860516254908575|\n",
            "|[49.7,411.0,25.0,...|            49.7| 51.26333473190001|\n",
            "|[49.8,396.0,549.0...|            49.8|51.426173804530606|\n",
            "|[51.1,527.0,4.0,2...|            51.1| 52.04013584453153|\n",
            "|[52.0,374.0,521.0...|            52.0|52.757683150020284|\n",
            "|[52.4,437.0,74.0,...|            52.4|51.903612750956995|\n",
            "|[52.7,374.0,505.0...|            52.7|52.425905011492134|\n",
            "|[53.2,367.0,498.0...|            53.2|52.425905011492134|\n",
            "|[53.2,446.0,99.0,...|            53.2| 51.83203610490502|\n",
            "|[53.4,369.0,24.0,...|            53.4|52.588884898542915|\n",
            "+--------------------+----------------+------------------+\n",
            "only showing top 20 rows\n",
            "\n"
          ]
        }
      ],
      "source": [
        "predictions.show()"
      ]
    },
    {
      "cell_type": "markdown",
      "source": [
        "Model evaluation using Regression Evaluator\n",
        "\n",
        "Refer [Here](https://spark.apache.org/docs/latest/api/python/reference/api/pyspark.ml.evaluation.RegressionEvaluator.html)"
      ],
      "metadata": {
        "id": "qpTvRqE8i6e5"
      }
    },
    {
      "cell_type": "code",
      "execution_count": null,
      "metadata": {
        "id": "sPQkyMPRPMEb"
      },
      "outputs": [],
      "source": [
        "from pyspark.ml.evaluation import RegressionEvaluator"
      ]
    },
    {
      "cell_type": "code",
      "execution_count": null,
      "metadata": {
        "id": "qy_vIlE_PMEb"
      },
      "outputs": [],
      "source": [
        "evaluator = RegressionEvaluator(\n",
        "    labelCol=\"Life expectancy \", predictionCol=\"prediction\", metricName=\"rmse\")\n",
        "rmse = evaluator.evaluate(predictions)\n",
        "print(\"Root Mean Squared Error (RMSE) on test data = %g\" % rmse)"
      ]
    },
    {
      "cell_type": "code",
      "execution_count": null,
      "metadata": {
        "id": "Rpv56TPePMEc"
      },
      "outputs": [],
      "source": [
        "df.filter(df[\"Country\"] == \"Afghanistan\").groupBy(\"Year\") .agg(mean(\"Life expectancy \").alias(\"average_life\")).orderBy(desc(\"average_life\")) .take(100)"
      ]
    },
    {
      "cell_type": "markdown",
      "source": [
        "## Reference Reading:\n",
        "\n",
        "https://evidencen.com/predictlifeexpectancy/"
      ],
      "metadata": {
        "id": "DDznFwaAjBHP"
      }
    }
  ],
  "metadata": {
    "kernelspec": {
      "display_name": "Python 3",
      "language": "python",
      "name": "python3"
    },
    "language_info": {
      "codemirror_mode": {
        "name": "ipython",
        "version": 3
      },
      "file_extension": ".py",
      "mimetype": "text/x-python",
      "name": "python",
      "nbconvert_exporter": "python",
      "pygments_lexer": "ipython3",
      "version": "3.8.5"
    },
    "colab": {
      "provenance": [],
      "include_colab_link": true
    }
  },
  "nbformat": 4,
  "nbformat_minor": 0
}